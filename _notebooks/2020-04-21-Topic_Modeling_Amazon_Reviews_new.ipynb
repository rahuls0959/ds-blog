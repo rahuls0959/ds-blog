{
 "cells": [
  {
   "cell_type": "markdown",
   "metadata": {},
   "source": [
    "# Topic Modeling of Product Reviews on Amazon Scraped using Selenium in Python\n",
    "> A tutorial demonstrating scraping product reviews from Amazon and extracting and analysing the topics from the text data.\n",
    "\n",
    "- toc: true\n",
    "- comments: true\n",
    "- categories: [python, text analytics, web scraping, topic modeling, selenium, gensim, nlp]"
   ]
  },
  {
   "cell_type": "markdown",
   "metadata": {},
   "source": [
    "## Introduction"
   ]
  },
  {
   "cell_type": "markdown",
   "metadata": {},
   "source": [
    "The blog covers the step-by-step process to scrap product reviews from Amazon webpage and analysing main topics from the extracted data. We will scrap 1000 reviews from the Amazon for Apple iPhone 11 64GB. With this data, we will convert each review doc into bag-of words for applying the topic modeling algorithm. We will be using Latent Dirichlet Allocation (LDA) algorithm in this tutorial. The main python libraries used are:\n",
    "\n",
    "- selenium: Selenium is a portable framework for testing web applications. We will be using this to interact with the browser and open URLs (https://pypi.org/project/selenium/)\n",
    "- gensim: Gensim is an open-source library for unsupervised topic modeling and natural language processing, using modern statistical machine learning (https://pypi.org/project/gensim/)"
   ]
  },
  {
   "cell_type": "markdown",
   "metadata": {},
   "source": [
    "## Web Scraping"
   ]
  },
  {
   "cell_type": "markdown",
   "metadata": {},
   "source": [
    "Web scraping is a technique for extracting information from the internet automatically using a software that simulates human web surfing. Web scraping helps us extract large volumes of data about customers, products, people, stock markets, etc. It is usually difficult to get this kind of information on a large scale using traditional data collection methods. We can utilize the data collected from a website such as e-commerce portal, social media channels to understand customer behaviors and sentiments, buying patterns, and brand attribute associations which are critical insights for any business.\n",
    "\n",
    "The first and foremost thing while scraping a website is to understand the structure of the website. We will be scraping the reviews for Apple iPhone 11 64GB on Amazon.in website. We will scrape 1000 reviews from different users across multiple pages. We will scrape user name, date of review and review and export it into a .csv file for any further analysis."
   ]
  },
  {
   "cell_type": "markdown",
   "metadata": {},
   "source": [
    "### Import Packages"
   ]
  },
  {
   "cell_type": "markdown",
   "metadata": {},
   "source": [
    "- Instll selenium package (if not already worked with before) using command '!pip install selenium'\n",
    "- Import webdriver from selenium in the notebook which we use to open an instance of Chrome browser\n",
    "- The executable file for launching Chrome 'chromedriver.exe' should be in the same folder as the notebook"
   ]
  },
  {
   "cell_type": "code",
   "execution_count": 1,
   "metadata": {},
   "outputs": [],
   "source": [
    "#Importing packages\n",
    "from selenium import webdriver\n",
    "import pandas as pd"
   ]
  },
  {
   "cell_type": "markdown",
   "metadata": {},
   "source": [
    "### Script for Scraping"
   ]
  },
  {
   "cell_type": "markdown",
   "metadata": {},
   "source": [
    "The below code opens the new chrome browser window and open our website with the url link provided. By the way, chrome knows that you are accessing it through an automated software!"
   ]
  },
  {
   "cell_type": "code",
   "execution_count": 2,
   "metadata": {},
   "outputs": [],
   "source": [
    "driver = webdriver.Chrome('chromedriver.exe')\n",
    "url = 'https://www.amazon.in/Apple-iPhone-11-64GB-White/product-reviews/B07XVMCLP7/ref=cm_cr_dp_d_show_all_btm?ie=UTF8&reviewerType=all_reviews&pageNumber1'\n",
    "driver.get(url)"
   ]
  },
  {
   "cell_type": "markdown",
   "metadata": {},
   "source": [
    "Woha! We just opened an url from python notebook.\n",
    "\n",
    "![](img/chrome.png)"
   ]
  },
  {
   "cell_type": "markdown",
   "metadata": {},
   "source": [
    "We will inspect 3 items (user id, date and comment) on our web page and understand how we can extract them.\n",
    "- Xpath for User id: Inspecting the userid, we can see the highlighted text represents the XML code for user id.The XML path (XPath)for the userid is shown below:\n",
    "    \n",
    "    //*[@id=\"customer_review-RBOIMRTKIYBBR\"]/div[1]/a/div[2]/span\n",
    "    \n",
    "![](img/chrome-2.png)\n",
    "    \n",
    "There is an interesting thing to note here that the XML path contains a review id, which uniquely denotes each review on the website. This will be very helpful as we try to recursively scrape multiple comments.\n",
    "\n",
    "- Xpath for Date & review: Similarily, we will find the XPaths for date and review. \n",
    "- Selenium has a function called “find_elements_by_xpath”. We will pass our XPath into this function and get a selenium element. Once we have the element, we can extract the text inside our XPath using the ‘text’ function.\n",
    "- We will recursively run the code for different review id and extract user id, date and review for each review id. Also, we will recursively go to next pages by simply changing the page numbers in the url to extract more comments until we get the desired number of comments."
   ]
  },
  {
   "cell_type": "code",
   "execution_count": 4,
   "metadata": {},
   "outputs": [],
   "source": [
    "driver = webdriver.Chrome('chromedriver.exe')\n",
    "\n",
    "#Creating empty data frame to store user_id, dates and comments from ~5K users.\n",
    "data = pd.DataFrame(columns = ['date','username','review'])\n",
    "\n",
    "j = 1\n",
    "while (j<=130):\n",
    "    # Running while loop only till we get 1K reviews\n",
    "    if (len(data)<1000):\n",
    "        url = 'https://www.amazon.in/Apple-iPhone-11-64GB-White/product-reviews/B07XVMCLP7/ref=cm_cr_dp_d_show_all_btm?ie=UTF8&reviewerType=all_reviews&pageNumber=' + str(j)\n",
    "        driver.get(url)\n",
    "        ids = driver.find_elements_by_xpath(\"//*[contains(@id,'customer_review-')]\")\n",
    "        review_ids = []\n",
    "        for i in ids:\n",
    "            review_ids.append(i.get_attribute('id'))\n",
    "\n",
    "        for x in review_ids:\n",
    "            #Extract dates from for each user on a page\n",
    "            date_element = driver.find_elements_by_xpath('//*[@id=\"' + x +'\"]/span')[0]\n",
    "            date = date_element.text\n",
    "\n",
    "            #Extract user ids from each user on a page\n",
    "            username_element = driver.find_elements_by_xpath('//*[@id=\"' + x +'\"]/div[1]/a/div[2]/span')[0]\n",
    "            username = username_element.text\n",
    "\n",
    "            #Extract Message for each user on a page\n",
    "            review_element = driver.find_elements_by_xpath('//*[@id=\"' + x +'\"]/div[4]')[0]\n",
    "            review = review_element.text\n",
    "            \n",
    "           #Adding date, userid and comment for each user in a dataframe    \n",
    "            data.loc[len(data)] = [date,username,review]\n",
    "        j=j+1\n",
    "    else:\n",
    "        break"
   ]
  },
  {
   "cell_type": "markdown",
   "metadata": {},
   "source": [
    "### Data Cleaning"
   ]
  },
  {
   "cell_type": "markdown",
   "metadata": {},
   "source": [
    "- We perform few data cleaning operations such as replacing line breaks with a space and copy the data into .csv file which can be used for further analysis."
   ]
  },
  {
   "cell_type": "code",
   "execution_count": 5,
   "metadata": {},
   "outputs": [],
   "source": [
    "import copy\n",
    "data = copy.deepcopy(data)\n",
    "\n",
    "def remove_space(s):\n",
    "    return s.replace(\"\\n\",\" \")\n",
    "\n",
    "data['review'] = data['review'].apply(remove_space)\n",
    "data.to_csv('amazon_reviews.csv', header=True, sep=',')"
   ]
  },
  {
   "cell_type": "code",
   "execution_count": 6,
   "metadata": {},
   "outputs": [
    {
     "data": {
      "text/html": [
       "<div>\n",
       "<style scoped>\n",
       "    .dataframe tbody tr th:only-of-type {\n",
       "        vertical-align: middle;\n",
       "    }\n",
       "\n",
       "    .dataframe tbody tr th {\n",
       "        vertical-align: top;\n",
       "    }\n",
       "\n",
       "    .dataframe thead th {\n",
       "        text-align: right;\n",
       "    }\n",
       "</style>\n",
       "<table border=\"1\" class=\"dataframe\">\n",
       "  <thead>\n",
       "    <tr style=\"text-align: right;\">\n",
       "      <th></th>\n",
       "      <th>date</th>\n",
       "      <th>username</th>\n",
       "      <th>review</th>\n",
       "    </tr>\n",
       "  </thead>\n",
       "  <tbody>\n",
       "    <tr>\n",
       "      <td>0</td>\n",
       "      <td>Reviewed in India on 20 October 2019</td>\n",
       "      <td>Suman Biswas</td>\n",
       "      <td>May be my first negative review about the prod...</td>\n",
       "    </tr>\n",
       "    <tr>\n",
       "      <td>1</td>\n",
       "      <td>Reviewed in India on 17 September 2019</td>\n",
       "      <td>Kaushik Bajaj</td>\n",
       "      <td>It's very expensive but the quality you get is...</td>\n",
       "    </tr>\n",
       "    <tr>\n",
       "      <td>2</td>\n",
       "      <td>Reviewed in India on 29 September 2019</td>\n",
       "      <td>Sunny Kumar</td>\n",
       "      <td>The iPhone design is good and the camera quali...</td>\n",
       "    </tr>\n",
       "    <tr>\n",
       "      <td>3</td>\n",
       "      <td>Reviewed in India on 30 September 2019</td>\n",
       "      <td>shanu Kumar</td>\n",
       "      <td>Awesome Phone. Nice upgrade from iPhone 6s to ...</td>\n",
       "    </tr>\n",
       "    <tr>\n",
       "      <td>4</td>\n",
       "      <td>Reviewed in India on 14 October 2019</td>\n",
       "      <td>Amazon Customer</td>\n",
       "      <td>My Phone is Producing Too Much Heat Even Didn’...</td>\n",
       "    </tr>\n",
       "    <tr>\n",
       "      <td>...</td>\n",
       "      <td>...</td>\n",
       "      <td>...</td>\n",
       "      <td>...</td>\n",
       "    </tr>\n",
       "    <tr>\n",
       "      <td>995</td>\n",
       "      <td>Reviewed in India on 4 March 2020</td>\n",
       "      <td>Md.Imran</td>\n",
       "      <td>Rt</td>\n",
       "    </tr>\n",
       "    <tr>\n",
       "      <td>996</td>\n",
       "      <td>Reviewed in India on 1 March 2020</td>\n",
       "      <td>Amazon Customer</td>\n",
       "      <td>❤️</td>\n",
       "    </tr>\n",
       "    <tr>\n",
       "      <td>997</td>\n",
       "      <td>Reviewed in India on 9 March 2020</td>\n",
       "      <td>Chirag Patel</td>\n",
       "      <td>Ok</td>\n",
       "    </tr>\n",
       "    <tr>\n",
       "      <td>998</td>\n",
       "      <td>Reviewed in India on 11 March 2020</td>\n",
       "      <td>chintu</td>\n",
       "      <td>Excellent</td>\n",
       "    </tr>\n",
       "    <tr>\n",
       "      <td>999</td>\n",
       "      <td>Reviewed in India on 8 March 2020</td>\n",
       "      <td>Amazon Customer</td>\n",
       "      <td>Excellent</td>\n",
       "    </tr>\n",
       "  </tbody>\n",
       "</table>\n",
       "<p>1000 rows × 3 columns</p>\n",
       "</div>"
      ],
      "text/plain": [
       "                                       date         username  \\\n",
       "0      Reviewed in India on 20 October 2019     Suman Biswas   \n",
       "1    Reviewed in India on 17 September 2019    Kaushik Bajaj   \n",
       "2    Reviewed in India on 29 September 2019      Sunny Kumar   \n",
       "3    Reviewed in India on 30 September 2019      shanu Kumar   \n",
       "4      Reviewed in India on 14 October 2019  Amazon Customer   \n",
       "..                                      ...              ...   \n",
       "995       Reviewed in India on 4 March 2020         Md.Imran   \n",
       "996       Reviewed in India on 1 March 2020  Amazon Customer   \n",
       "997       Reviewed in India on 9 March 2020     Chirag Patel   \n",
       "998      Reviewed in India on 11 March 2020           chintu   \n",
       "999       Reviewed in India on 8 March 2020  Amazon Customer   \n",
       "\n",
       "                                                review  \n",
       "0    May be my first negative review about the prod...  \n",
       "1    It's very expensive but the quality you get is...  \n",
       "2    The iPhone design is good and the camera quali...  \n",
       "3    Awesome Phone. Nice upgrade from iPhone 6s to ...  \n",
       "4    My Phone is Producing Too Much Heat Even Didn’...  \n",
       "..                                                 ...  \n",
       "995                                                 Rt  \n",
       "996                                                 ❤️  \n",
       "997                                                 Ok  \n",
       "998                                          Excellent  \n",
       "999                                          Excellent  \n",
       "\n",
       "[1000 rows x 3 columns]"
      ]
     },
     "execution_count": 6,
     "metadata": {},
     "output_type": "execute_result"
    }
   ],
   "source": [
    "data = pd.read_csv('amazon_reviews.csv',index_col=[0])\n",
    "data"
   ]
  },
  {
   "cell_type": "markdown",
   "metadata": {},
   "source": [
    "- Since the goal of further analysis is to perform topic modeling, we will solely focus on the review text, and drop other metadata columns i.e. date and user name."
   ]
  },
  {
   "cell_type": "code",
   "execution_count": 7,
   "metadata": {},
   "outputs": [
    {
     "data": {
      "text/html": [
       "<div>\n",
       "<style scoped>\n",
       "    .dataframe tbody tr th:only-of-type {\n",
       "        vertical-align: middle;\n",
       "    }\n",
       "\n",
       "    .dataframe tbody tr th {\n",
       "        vertical-align: top;\n",
       "    }\n",
       "\n",
       "    .dataframe thead th {\n",
       "        text-align: right;\n",
       "    }\n",
       "</style>\n",
       "<table border=\"1\" class=\"dataframe\">\n",
       "  <thead>\n",
       "    <tr style=\"text-align: right;\">\n",
       "      <th></th>\n",
       "      <th>review</th>\n",
       "    </tr>\n",
       "  </thead>\n",
       "  <tbody>\n",
       "    <tr>\n",
       "      <td>0</td>\n",
       "      <td>May be my first negative review about the prod...</td>\n",
       "    </tr>\n",
       "    <tr>\n",
       "      <td>1</td>\n",
       "      <td>It's very expensive but the quality you get is...</td>\n",
       "    </tr>\n",
       "    <tr>\n",
       "      <td>2</td>\n",
       "      <td>The iPhone design is good and the camera quali...</td>\n",
       "    </tr>\n",
       "    <tr>\n",
       "      <td>3</td>\n",
       "      <td>Awesome Phone. Nice upgrade from iPhone 6s to ...</td>\n",
       "    </tr>\n",
       "    <tr>\n",
       "      <td>4</td>\n",
       "      <td>My Phone is Producing Too Much Heat Even Didn’...</td>\n",
       "    </tr>\n",
       "    <tr>\n",
       "      <td>...</td>\n",
       "      <td>...</td>\n",
       "    </tr>\n",
       "    <tr>\n",
       "      <td>995</td>\n",
       "      <td>Rt</td>\n",
       "    </tr>\n",
       "    <tr>\n",
       "      <td>996</td>\n",
       "      <td>❤️</td>\n",
       "    </tr>\n",
       "    <tr>\n",
       "      <td>997</td>\n",
       "      <td>Ok</td>\n",
       "    </tr>\n",
       "    <tr>\n",
       "      <td>998</td>\n",
       "      <td>Excellent</td>\n",
       "    </tr>\n",
       "    <tr>\n",
       "      <td>999</td>\n",
       "      <td>Excellent</td>\n",
       "    </tr>\n",
       "  </tbody>\n",
       "</table>\n",
       "<p>1000 rows × 1 columns</p>\n",
       "</div>"
      ],
      "text/plain": [
       "                                                review\n",
       "0    May be my first negative review about the prod...\n",
       "1    It's very expensive but the quality you get is...\n",
       "2    The iPhone design is good and the camera quali...\n",
       "3    Awesome Phone. Nice upgrade from iPhone 6s to ...\n",
       "4    My Phone is Producing Too Much Heat Even Didn’...\n",
       "..                                                 ...\n",
       "995                                                 Rt\n",
       "996                                                 ❤️\n",
       "997                                                 Ok\n",
       "998                                          Excellent\n",
       "999                                          Excellent\n",
       "\n",
       "[1000 rows x 1 columns]"
      ]
     },
     "execution_count": 7,
     "metadata": {},
     "output_type": "execute_result"
    }
   ],
   "source": [
    "# Remove the columns\n",
    "data = data.drop(columns=['date', 'username'], axis=1)\n",
    "# Print out the data\n",
    "data"
   ]
  },
  {
   "cell_type": "markdown",
   "metadata": {},
   "source": [
    "## Topic Modeling using LDA"
   ]
  },
  {
   "cell_type": "markdown",
   "metadata": {},
   "source": [
    "Topic modeling is a type of statistical modeling for discovering the abstract “topics” that occur in a collection of documents. Latent Dirichlet Allocation (LDA) is an example of topic model and is used to classify text in a document to a particular topic. LDA is a generative probabilistic model that assumes each topic is a mixture over an underlying set of words, and each document is a mixture of over a set of topic probabilities.\n",
    "\n",
    "Illustration of LDA input/output workflow (Credit: http://chdoig.github.io/pytexas2015-topic-modeling/#/3/4)\n",
    "\n",
    "![](img/lda-1.png)"
   ]
  },
  {
   "cell_type": "markdown",
   "metadata": {},
   "source": [
    "### Data Pre-processing"
   ]
  },
  {
   "cell_type": "markdown",
   "metadata": {},
   "source": [
    "We will preprocess the review data using gensim library. Few of the actions performed by preprocess_string as follows:\n",
    "- Tokenization: Split the text into sentences and the sentences into words. Lowercase the words and remove punctuation.\n",
    "- All stopwords are removed.\n",
    "- Words are lemmatized: words in third person are changed to first person and verbs in past and future tenses are changed into present. \n",
    "- Words are stemmed: words are reduced to their root form.\n",
    "\n",
    "Please see below the output after pre-processing one of the reviews."
   ]
  },
  {
   "cell_type": "code",
   "execution_count": 10,
   "metadata": {},
   "outputs": [
    {
     "name": "stdout",
     "output_type": "stream",
     "text": [
      "It's very expensive but the quality you get is osum\n",
      "['expens', 'qualiti', 'osum']\n"
     ]
    }
   ],
   "source": [
    "import gensim\n",
    "from gensim.parsing.preprocessing import preprocess_string\n",
    "\n",
    "# print unprocessed text\n",
    "print(data.review[1])\n",
    "\n",
    "# print processed text\n",
    "print(preprocess_string(data.review[1]))"
   ]
  },
  {
   "cell_type": "code",
   "execution_count": 11,
   "metadata": {},
   "outputs": [
    {
     "data": {
      "text/plain": [
       "0      [neg, review, product, amazon, elat, receiv, i...\n",
       "1                                [expens, qualiti, osum]\n",
       "2      [iphon, design, good, camera, qualiti, awesom,...\n",
       "3      [awesom, phone, nice, upgrad, iphon, iphon, lo...\n",
       "4      [phone, produc, heat, didn’t, sim, half, hour,...\n",
       "                             ...                        \n",
       "995                                                   []\n",
       "996                                                   []\n",
       "997                                                   []\n",
       "998                                              [excel]\n",
       "999                                              [excel]\n",
       "Name: review, Length: 1000, dtype: object"
      ]
     },
     "execution_count": 11,
     "metadata": {},
     "output_type": "execute_result"
    }
   ],
   "source": [
    "processed_data = data['review'].map(preprocess_string)\n",
    "processed_data"
   ]
  },
  {
   "cell_type": "markdown",
   "metadata": {},
   "source": [
    "### Preparign Document-Term-Matrix"
   ]
  },
  {
   "cell_type": "markdown",
   "metadata": {},
   "source": [
    "Gensim requires that tokens be converted to a dictionary. In this instance a dictionary is a mapping between words and their integer IDs. We then create a  Document-Term-Matrix where we use Bag-of-Words approach returning the vector of word and its frequency (number of occurences in the document) for each document."
   ]
  },
  {
   "cell_type": "code",
   "execution_count": 12,
   "metadata": {},
   "outputs": [],
   "source": [
    "# Importing Gensim\n",
    "import gensim\n",
    "from gensim import corpora\n",
    "\n",
    "# Creating the term dictionary of our list of documents (corpus), where every unique term is assigned an index. \n",
    "dictionary = corpora.Dictionary(processed_data)\n",
    "\n",
    "# Converting list of documents (corpus) into Document Term Matrix using dictionary prepared above.\n",
    "doc_term_matrix = [dictionary.doc2bow(doc) for doc in processed_data]"
   ]
  },
  {
   "cell_type": "markdown",
   "metadata": {},
   "source": [
    "### Running LDA Model"
   ]
  },
  {
   "cell_type": "markdown",
   "metadata": {},
   "source": [
    "We will now run the LDA Model. The number of topics you give is largely a guess/arbitrary. The model assumes the document contains that many topics. However, finding the number of topics explaining the data is a optimisation problem and can be found by 'Coherence Model'.\n",
    "\n",
    "Here, we have used number of topics = 3"
   ]
  },
  {
   "cell_type": "code",
   "execution_count": 14,
   "metadata": {},
   "outputs": [],
   "source": [
    "#RUN THE MODEL\n",
    "# Creating the object for LDA model using gensim library\n",
    "Lda = gensim.models.ldamodel.LdaModel\n",
    "\n",
    "# Running and Trainign LDA model on the document term matrix.\n",
    "TOPIC_CNT= 3\n",
    "ldamodel = Lda(doc_term_matrix, num_topics=TOPIC_CNT, id2word = dictionary, passes=50)"
   ]
  },
  {
   "cell_type": "markdown",
   "metadata": {},
   "source": [
    "We can then see the weights of top 20 words in each topic, which can help us to explain the topic."
   ]
  },
  {
   "cell_type": "code",
   "execution_count": 16,
   "metadata": {},
   "outputs": [
    {
     "data": {
      "text/plain": [
       "[(0,\n",
       "  '0.050*\"phone\" + 0.031*\"iphon\" + 0.019*\"best\" + 0.015*\"amazon\" + 0.015*\"nice\" + 0.014*\"great\" + 0.013*\"camera\" + 0.012*\"time\" + 0.012*\"appl\" + 0.010*\"charger\" + 0.009*\"product\" + 0.008*\"bui\" + 0.008*\"charg\" + 0.007*\"qualiti\" + 0.007*\"us\" + 0.006*\"good\" + 0.006*\"deliveri\" + 0.006*\"perfect\" + 0.006*\"look\" + 0.006*\"batteri\"'),\n",
       " (1,\n",
       "  '0.032*\"phone\" + 0.026*\"awesom\" + 0.024*\"iphon\" + 0.015*\"love\" + 0.011*\"great\" + 0.010*\"io\" + 0.010*\"dai\" + 0.010*\"camera\" + 0.009*\"android\" + 0.008*\"displai\" + 0.008*\"it’\" + 0.008*\"batteri\" + 0.007*\"screen\" + 0.007*\"appl\" + 0.007*\"review\" + 0.006*\"pro\" + 0.006*\"best\" + 0.006*\"experi\" + 0.006*\"feel\" + 0.006*\"word\"'),\n",
       " (2,\n",
       "  '0.066*\"good\" + 0.041*\"batteri\" + 0.036*\"camera\" + 0.035*\"phone\" + 0.032*\"product\" + 0.025*\"life\" + 0.023*\"qualiti\" + 0.023*\"appl\" + 0.018*\"iphon\" + 0.018*\"best\" + 0.014*\"awesom\" + 0.014*\"bui\" + 0.014*\"amaz\" + 0.013*\"monei\" + 0.011*\"excel\" + 0.011*\"valu\" + 0.011*\"perform\" + 0.010*\"mobil\" + 0.009*\"great\" + 0.009*\"worth\"')]"
      ]
     },
     "execution_count": 16,
     "metadata": {},
     "output_type": "execute_result"
    }
   ],
   "source": [
    "#Results\n",
    "topics= ldamodel.print_topics(num_topics=TOPIC_CNT, num_words=20)\n",
    "topics"
   ]
  },
  {
   "cell_type": "markdown",
   "metadata": {},
   "source": [
    "### Extracting Topics"
   ]
  },
  {
   "cell_type": "markdown",
   "metadata": {},
   "source": [
    "We can identify the follow topics emerging out of reviews of Amazon iPhone 11 64GB:\n",
    "\n",
    "- Topic #1: There seems to discussion of heat/ charging issue with the product.\n",
    "- Topic #2: The discussion on iPhone's features such as camera, display, battery.\n",
    "- Topic #3: iPhone being value for money and discussion on Amazon delivery service."
   ]
  },
  {
   "cell_type": "code",
   "execution_count": 17,
   "metadata": {},
   "outputs": [
    {
     "data": {
      "text/html": [
       "<div>\n",
       "<style scoped>\n",
       "    .dataframe tbody tr th:only-of-type {\n",
       "        vertical-align: middle;\n",
       "    }\n",
       "\n",
       "    .dataframe tbody tr th {\n",
       "        vertical-align: top;\n",
       "    }\n",
       "\n",
       "    .dataframe thead th {\n",
       "        text-align: right;\n",
       "    }\n",
       "</style>\n",
       "<table border=\"1\" class=\"dataframe\">\n",
       "  <thead>\n",
       "    <tr style=\"text-align: right;\">\n",
       "      <th></th>\n",
       "      <th>Topic # 1</th>\n",
       "      <th>Topic # 2</th>\n",
       "      <th>Topic # 3</th>\n",
       "    </tr>\n",
       "  </thead>\n",
       "  <tbody>\n",
       "    <tr>\n",
       "      <td>0</td>\n",
       "      <td>phone</td>\n",
       "      <td>phone</td>\n",
       "      <td>good</td>\n",
       "    </tr>\n",
       "    <tr>\n",
       "      <td>1</td>\n",
       "      <td>iphon</td>\n",
       "      <td>awesom</td>\n",
       "      <td>batteri</td>\n",
       "    </tr>\n",
       "    <tr>\n",
       "      <td>2</td>\n",
       "      <td>best</td>\n",
       "      <td>iphon</td>\n",
       "      <td>camera</td>\n",
       "    </tr>\n",
       "    <tr>\n",
       "      <td>3</td>\n",
       "      <td>amazon</td>\n",
       "      <td>love</td>\n",
       "      <td>phone</td>\n",
       "    </tr>\n",
       "    <tr>\n",
       "      <td>4</td>\n",
       "      <td>nice</td>\n",
       "      <td>great</td>\n",
       "      <td>product</td>\n",
       "    </tr>\n",
       "    <tr>\n",
       "      <td>5</td>\n",
       "      <td>great</td>\n",
       "      <td>io</td>\n",
       "      <td>life</td>\n",
       "    </tr>\n",
       "    <tr>\n",
       "      <td>6</td>\n",
       "      <td>camera</td>\n",
       "      <td>dai</td>\n",
       "      <td>qualiti</td>\n",
       "    </tr>\n",
       "    <tr>\n",
       "      <td>7</td>\n",
       "      <td>time</td>\n",
       "      <td>camera</td>\n",
       "      <td>appl</td>\n",
       "    </tr>\n",
       "    <tr>\n",
       "      <td>8</td>\n",
       "      <td>appl</td>\n",
       "      <td>android</td>\n",
       "      <td>iphon</td>\n",
       "    </tr>\n",
       "    <tr>\n",
       "      <td>9</td>\n",
       "      <td>charger</td>\n",
       "      <td>displai</td>\n",
       "      <td>best</td>\n",
       "    </tr>\n",
       "    <tr>\n",
       "      <td>10</td>\n",
       "      <td>product</td>\n",
       "      <td>it’</td>\n",
       "      <td>awesom</td>\n",
       "    </tr>\n",
       "    <tr>\n",
       "      <td>11</td>\n",
       "      <td>bui</td>\n",
       "      <td>batteri</td>\n",
       "      <td>bui</td>\n",
       "    </tr>\n",
       "    <tr>\n",
       "      <td>12</td>\n",
       "      <td>charg</td>\n",
       "      <td>screen</td>\n",
       "      <td>amaz</td>\n",
       "    </tr>\n",
       "    <tr>\n",
       "      <td>13</td>\n",
       "      <td>qualiti</td>\n",
       "      <td>appl</td>\n",
       "      <td>monei</td>\n",
       "    </tr>\n",
       "    <tr>\n",
       "      <td>14</td>\n",
       "      <td>us</td>\n",
       "      <td>review</td>\n",
       "      <td>excel</td>\n",
       "    </tr>\n",
       "    <tr>\n",
       "      <td>15</td>\n",
       "      <td>good</td>\n",
       "      <td>pro</td>\n",
       "      <td>valu</td>\n",
       "    </tr>\n",
       "    <tr>\n",
       "      <td>16</td>\n",
       "      <td>deliveri</td>\n",
       "      <td>best</td>\n",
       "      <td>perform</td>\n",
       "    </tr>\n",
       "    <tr>\n",
       "      <td>17</td>\n",
       "      <td>perfect</td>\n",
       "      <td>experi</td>\n",
       "      <td>mobil</td>\n",
       "    </tr>\n",
       "    <tr>\n",
       "      <td>18</td>\n",
       "      <td>look</td>\n",
       "      <td>feel</td>\n",
       "      <td>great</td>\n",
       "    </tr>\n",
       "    <tr>\n",
       "      <td>19</td>\n",
       "      <td>batteri</td>\n",
       "      <td>word</td>\n",
       "      <td>worth</td>\n",
       "    </tr>\n",
       "  </tbody>\n",
       "</table>\n",
       "</div>"
      ],
      "text/plain": [
       "   Topic # 1 Topic # 2 Topic # 3\n",
       "0      phone     phone      good\n",
       "1      iphon    awesom   batteri\n",
       "2       best     iphon    camera\n",
       "3     amazon      love     phone\n",
       "4       nice     great   product\n",
       "5      great        io      life\n",
       "6     camera       dai   qualiti\n",
       "7       time    camera      appl\n",
       "8       appl   android     iphon\n",
       "9    charger   displai      best\n",
       "10   product       it’    awesom\n",
       "11       bui   batteri       bui\n",
       "12     charg    screen      amaz\n",
       "13   qualiti      appl     monei\n",
       "14        us    review     excel\n",
       "15      good       pro      valu\n",
       "16  deliveri      best   perform\n",
       "17   perfect    experi     mobil\n",
       "18      look      feel     great\n",
       "19   batteri      word     worth"
      ]
     },
     "execution_count": 17,
     "metadata": {},
     "output_type": "execute_result"
    }
   ],
   "source": [
    "word_dict = {};\n",
    "for i in range(TOPIC_CNT):\n",
    "    words = ldamodel.show_topic(i, topn = 20)\n",
    "    word_dict['Topic #' + '{:2d}'.format(i+1)] = [i[0] for i in words]\n",
    "pd.DataFrame(word_dict)"
   ]
  },
  {
   "cell_type": "markdown",
   "metadata": {},
   "source": [
    "The below code provide the % of topic a document is about. This helps to find the dominant topic in each review. "
   ]
  },
  {
   "cell_type": "code",
   "execution_count": 18,
   "metadata": {},
   "outputs": [],
   "source": [
    "doc_to_topic = []\n",
    "for i in range(len(doc_term_matrix)):\n",
    "    top_topics = ldamodel.get_document_topics(doc_term_matrix[i], minimum_probability=0.0)\n",
    "    topic_vec = [top_topics[j][1] for j in range(TOPIC_CNT)]\n",
    "    doc_to_topic.append(topic_vec)"
   ]
  },
  {
   "cell_type": "code",
   "execution_count": 19,
   "metadata": {},
   "outputs": [],
   "source": [
    "#Dataframe of topic\n",
    "document_topics = pd.DataFrame(doc_to_topic)\n",
    "document_topics = document_topics.rename(columns=lambda x: x + 1)\n",
    "document_topics.columns = document_topics.columns.astype(str)\n",
    "document_topics = document_topics.rename(columns=lambda x: 'Topic #' + x)"
   ]
  },
  {
   "cell_type": "code",
   "execution_count": 20,
   "metadata": {},
   "outputs": [
    {
     "data": {
      "text/html": [
       "<div>\n",
       "<style scoped>\n",
       "    .dataframe tbody tr th:only-of-type {\n",
       "        vertical-align: middle;\n",
       "    }\n",
       "\n",
       "    .dataframe tbody tr th {\n",
       "        vertical-align: top;\n",
       "    }\n",
       "\n",
       "    .dataframe thead th {\n",
       "        text-align: right;\n",
       "    }\n",
       "</style>\n",
       "<table border=\"1\" class=\"dataframe\">\n",
       "  <thead>\n",
       "    <tr style=\"text-align: right;\">\n",
       "      <th></th>\n",
       "      <th>review</th>\n",
       "      <th>Topic #1</th>\n",
       "      <th>Topic #2</th>\n",
       "      <th>Topic #3</th>\n",
       "    </tr>\n",
       "  </thead>\n",
       "  <tbody>\n",
       "    <tr>\n",
       "      <td>0</td>\n",
       "      <td>May be my first negative review about the prod...</td>\n",
       "      <td>0.990397</td>\n",
       "      <td>0.004789</td>\n",
       "      <td>0.004815</td>\n",
       "    </tr>\n",
       "    <tr>\n",
       "      <td>1</td>\n",
       "      <td>It's very expensive but the quality you get is...</td>\n",
       "      <td>0.084920</td>\n",
       "      <td>0.089119</td>\n",
       "      <td>0.825960</td>\n",
       "    </tr>\n",
       "    <tr>\n",
       "      <td>2</td>\n",
       "      <td>The iPhone design is good and the camera quali...</td>\n",
       "      <td>0.989838</td>\n",
       "      <td>0.004876</td>\n",
       "      <td>0.005286</td>\n",
       "    </tr>\n",
       "    <tr>\n",
       "      <td>3</td>\n",
       "      <td>Awesome Phone. Nice upgrade from iPhone 6s to ...</td>\n",
       "      <td>0.455081</td>\n",
       "      <td>0.503810</td>\n",
       "      <td>0.041108</td>\n",
       "    </tr>\n",
       "    <tr>\n",
       "      <td>4</td>\n",
       "      <td>My Phone is Producing Too Much Heat Even Didn’...</td>\n",
       "      <td>0.978437</td>\n",
       "      <td>0.010337</td>\n",
       "      <td>0.011225</td>\n",
       "    </tr>\n",
       "  </tbody>\n",
       "</table>\n",
       "</div>"
      ],
      "text/plain": [
       "                                              review  Topic #1  Topic #2  \\\n",
       "0  May be my first negative review about the prod...  0.990397  0.004789   \n",
       "1  It's very expensive but the quality you get is...  0.084920  0.089119   \n",
       "2  The iPhone design is good and the camera quali...  0.989838  0.004876   \n",
       "3  Awesome Phone. Nice upgrade from iPhone 6s to ...  0.455081  0.503810   \n",
       "4  My Phone is Producing Too Much Heat Even Didn’...  0.978437  0.010337   \n",
       "\n",
       "   Topic #3  \n",
       "0  0.004815  \n",
       "1  0.825960  \n",
       "2  0.005286  \n",
       "3  0.041108  \n",
       "4  0.011225  "
      ]
     },
     "execution_count": 20,
     "metadata": {},
     "output_type": "execute_result"
    }
   ],
   "source": [
    "#Dataframe of review and topics\n",
    "data_new = pd.concat([data,document_topics],axis=1,join='inner')\n",
    "data_new.head()"
   ]
  },
  {
   "cell_type": "markdown",
   "metadata": {},
   "source": [
    "## Endnotes"
   ]
  },
  {
   "cell_type": "markdown",
   "metadata": {},
   "source": [
    "I hope this blog helps in understanding how powerful Topic Modeling is in understanding unstructured textual data.  Feel free to play around with the code by opening in Colab or cloning the repo in github.\n",
    "\n",
    "If you have any comments or suggestions please comment below or reach out to me at - [Twitter](https://twitter.com/rahulsingla0959) or [LinkedIn](https://www.linkedin.com/in/rahul-singla1/)"
   ]
  }
 ],
 "metadata": {
  "kernelspec": {
   "display_name": "Python 3",
   "language": "python",
   "name": "python3"
  },
  "language_info": {
   "codemirror_mode": {
    "name": "ipython",
    "version": 3
   },
   "file_extension": ".py",
   "mimetype": "text/x-python",
   "name": "python",
   "nbconvert_exporter": "python",
   "pygments_lexer": "ipython3",
   "version": "3.7.4"
  }
 },
 "nbformat": 4,
 "nbformat_minor": 2
}
